{
  "nbformat": 4,
  "nbformat_minor": 0,
  "metadata": {
    "colab": {
      "provenance": []
    },
    "kernelspec": {
      "name": "python3",
      "display_name": "Python 3"
    },
    "language_info": {
      "name": "python"
    }
  },
  "cells": [
    {
      "cell_type": "markdown",
      "source": [
        "### Criado por: Matheus Eduardo<br>\n",
        "Repositório: [Github](https://github.com/euMts/aula_scraping_e_api)<br>\n",
        "Linkedin: [Matheus](https://www.linkedin.com/in/matheusetp/)<br>\n"
      ],
      "metadata": {
        "id": "UvhXxopkteeB"
      }
    },
    {
      "cell_type": "code",
      "source": [
        "!pip install requests"
      ],
      "metadata": {
        "colab": {
          "base_uri": "https://localhost:8080/"
        },
        "id": "LqqsCyggzMYi",
        "outputId": "d4b07ffe-7d7f-42bd-b0bb-48ab4bab3670"
      },
      "execution_count": 5,
      "outputs": [
        {
          "output_type": "stream",
          "name": "stdout",
          "text": [
            "Looking in indexes: https://pypi.org/simple, https://us-python.pkg.dev/colab-wheels/public/simple/\n",
            "Requirement already satisfied: requests in /usr/local/lib/python3.7/dist-packages (2.26.0)\n",
            "Requirement already satisfied: urllib3<1.27,>=1.21.1 in /usr/local/lib/python3.7/dist-packages (from requests) (1.24.3)\n",
            "Requirement already satisfied: charset-normalizer~=2.0.0 in /usr/local/lib/python3.7/dist-packages (from requests) (2.0.12)\n",
            "Requirement already satisfied: idna<4,>=2.5 in /usr/local/lib/python3.7/dist-packages (from requests) (2.10)\n",
            "Requirement already satisfied: certifi>=2017.4.17 in /usr/local/lib/python3.7/dist-packages (from requests) (2022.6.15)\n"
          ]
        }
      ]
    },
    {
      "cell_type": "markdown",
      "source": [
        "# Exercício 1<br>\n",
        "### Crie um código que exiba na tela a biografia de um usuário do github\n",
        "\n",
        "[Material de apoio](https://github.com/euMts/aula_scraping_e_api/tree/main/Consumindo%20API)<br>\n",
        "\n",
        "### Exemplo de uso:\n",
        "Chamada da função:<br>\n",
        "verificar_biografia(\"nome_do_usuario\")<br>\n",
        "\n",
        "Retorno:<br>\n",
        "A biografia do usuário \"nome_do_usuario\" é: biografia_aqui<br>"
      ],
      "metadata": {
        "id": "CY2wjt9JuFaL"
      }
    },
    {
      "cell_type": "code",
      "execution_count": 12,
      "metadata": {
        "id": "AT4_6bg9tSMx"
      },
      "outputs": [],
      "source": [
        "from requests import get\n",
        "\n",
        "# seu código aqui"
      ]
    },
    {
      "cell_type": "markdown",
      "source": [
        "# Exercício 2\n",
        "Este código tem a intenção de informar APENAS o nome da pessoa, porém algo está errado, corrija o seguinte bloco de código:"
      ],
      "metadata": {
        "id": "_lt-QdCBu8j3"
      }
    },
    {
      "cell_type": "code",
      "source": [
        "# informar apenas o NOME da pessoa\n",
        "pessoa = [\n",
        "    {\n",
        "    \"nome\": \"Matheus Eduardo\"\n",
        "    \"idade\": 20,\n",
        "    \"profissao\": \"desenvolvedor de software\"\n",
        "    }\n",
        "]\n",
        "\n",
        "print(pessoa.nome)"
      ],
      "metadata": {
        "colab": {
          "base_uri": "https://localhost:8080/",
          "height": 130
        },
        "id": "_w4l1NjlvbEA",
        "outputId": "662fab46-abe5-4c76-baec-faeb4ddc1e22"
      },
      "execution_count": 9,
      "outputs": [
        {
          "output_type": "error",
          "ename": "SyntaxError",
          "evalue": "ignored",
          "traceback": [
            "\u001b[0;36m  File \u001b[0;32m\"<ipython-input-9-92cb2603d616>\"\u001b[0;36m, line \u001b[0;32m5\u001b[0m\n\u001b[0;31m    \"idade\": 20,\u001b[0m\n\u001b[0m           ^\u001b[0m\n\u001b[0;31mSyntaxError\u001b[0m\u001b[0;31m:\u001b[0m invalid syntax\n"
          ]
        }
      ]
    },
    {
      "cell_type": "markdown",
      "source": [
        "# Exercício 3\n",
        "Exiba na tela apenas os nomes de todas as pessoas da lista"
      ],
      "metadata": {
        "id": "D9RtThrDv5R9"
      }
    },
    {
      "cell_type": "code",
      "source": [
        "# exibir apenas os nomes\n",
        "pessoas = [\n",
        "    {\n",
        "        \"nome\":\"Matheus Eduardo\",\n",
        "        \"idade\":20,\n",
        "        \"profissao\":\"desenvolvedor de software\"\n",
        "    },\n",
        "    {\n",
        "        \"nome\":\"Felipe Bender\",\n",
        "        \"idade\":24,\n",
        "        \"profissao\":\"desenvolvedor de software\"\n",
        "    },\n",
        "    {\n",
        "        \"nome\":\"André Calisto\",\n",
        "        \"idade\":30,\n",
        "        \"profissao\":\"engenheiro de bioprocessos\"\n",
        "    },\n",
        "    {\n",
        "        \"nome\":\"Ricardo Luan Arthur Costa\",\n",
        "        \"idade\":23,\n",
        "        \"profissao\":\"professor\"\n",
        "    },\n",
        "    {\n",
        "        \"nome\":\"Francisca Nicole\",\n",
        "        \"idade\":29,\n",
        "        \"profissao\":\"advogada\"\n",
        "    },\n",
        "    {\n",
        "        \"nome\":\"Alana Stefany\",\n",
        "        \"idade\":19,\n",
        "        \"profissao\":\"desenvolvedora de software\"\n",
        "    }\n",
        "]\n",
        "\n",
        "print(pessoas)"
      ],
      "metadata": {
        "colab": {
          "base_uri": "https://localhost:8080/"
        },
        "id": "yJj7V3QGwEjZ",
        "outputId": "84baac13-c882-4ebb-a0ff-32dc60176044"
      },
      "execution_count": 8,
      "outputs": [
        {
          "output_type": "stream",
          "name": "stdout",
          "text": [
            "[{'nome': 'Matheus Eduardo', 'idade': 20, 'profissao': 'desenvolvedor de software'}, {'nome': 'Felipe Bender', 'idade': 24, 'profissao': 'desenvolvedor de software'}, {'nome': 'André Calisto', 'idade': 30, 'profissao': 'engenheiro de bioprocessos'}, {'nome': 'Ricardo Luan Arthur Costa', 'idade': 23, 'profissao': 'professor'}, {'nome': 'Francisca Nicole', 'idade': 29, 'profissao': 'advogada'}, {'nome': 'Alana Stefany', 'idade': 19, 'profissao': 'desenvolvedora de software'}]\n"
          ]
        }
      ]
    },
    {
      "cell_type": "markdown",
      "source": [
        "# Exercício 4\n",
        "Crie um código que exiba na tela a descrição de TODOS os repositórios do usuário [Felipe Bender](https://github.com/BenderF) no github.<br>\n",
        "[Material de apoio](https://github.com/euMts/aula_scraping_e_api/tree/main/Consumindo%20API)"
      ],
      "metadata": {
        "id": "FRkZH-fKx4xa"
      }
    },
    {
      "cell_type": "code",
      "source": [
        "from requests import get\n",
        "\n",
        "# seu código aqui"
      ],
      "metadata": {
        "id": "R3tWL5HqyrJ5"
      },
      "execution_count": 4,
      "outputs": []
    },
    {
      "cell_type": "markdown",
      "source": [
        "# Exercício 5\n",
        "Crie uma classe que recebe nome, idade e profissão de determinada pessoa e armazene estes valores um uma variável do tipo lista.<br>\n",
        "Exiba os valores salvos na tela."
      ],
      "metadata": {
        "id": "vYUKrXwUx-ER"
      }
    },
    {
      "cell_type": "code",
      "source": [
        "# seu codigo aqui\n"
      ],
      "metadata": {
        "id": "V-iOZwOl2fQN"
      },
      "execution_count": 7,
      "outputs": []
    }
  ]
}