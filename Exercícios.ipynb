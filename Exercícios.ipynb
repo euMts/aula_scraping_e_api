{
  "cells": [
    {
      "cell_type": "markdown",
      "metadata": {
        "id": "UvhXxopkteeB"
      },
      "source": [
        "### Criado por: Matheus Eduardo<br>\n",
        "Repositório: [Github](https://github.com/euMts/aula_scraping_e_api)<br>\n",
        "Linkedin: [Matheus](https://www.linkedin.com/in/matheusetp/)<br>\n"
      ]
    },
    {
      "cell_type": "code",
      "execution_count": null,
      "metadata": {
        "colab": {
          "base_uri": "https://localhost:8080/"
        },
        "id": "LqqsCyggzMYi",
        "outputId": "d4b07ffe-7d7f-42bd-b0bb-48ab4bab3670"
      },
      "outputs": [],
      "source": [
        "%pip install datetime requests"
      ]
    },
    {
      "cell_type": "markdown",
      "metadata": {
        "id": "CY2wjt9JuFaL"
      },
      "source": [
        "# Exercício 1<br>\n",
        "### Crie um código que exiba na tela a biografia de um usuário do github\n",
        "\n",
        "[Material de apoio](https://github.com/euMts/aula_scraping_e_api/tree/main/Consumindo%20API)<br>\n",
        "\n",
        "### Exemplo de uso:\n",
        "Chamada da função:<br>\n",
        "verificar_biografia(\"nome_do_usuario\")<br>\n",
        "\n",
        "Retorno:<br>\n",
        "A biografia do usuário \"nome_do_usuario\" é: biografia_aqui<br>"
      ]
    },
    {
      "cell_type": "code",
      "execution_count": null,
      "metadata": {
        "id": "AT4_6bg9tSMx"
      },
      "outputs": [],
      "source": [
        "from requests import get\n",
        "\n",
        "# seu código aqui"
      ]
    },
    {
      "cell_type": "markdown",
      "metadata": {
        "id": "_lt-QdCBu8j3"
      },
      "source": [
        "# Exercício 2\n",
        "Este código tem a intenção de informar APENAS o nome da pessoa, porém algo está errado, corrija o seguinte bloco de código:"
      ]
    },
    {
      "cell_type": "code",
      "execution_count": null,
      "metadata": {
        "colab": {
          "base_uri": "https://localhost:8080/",
          "height": 130
        },
        "id": "_w4l1NjlvbEA",
        "outputId": "662fab46-abe5-4c76-baec-faeb4ddc1e22"
      },
      "outputs": [],
      "source": [
        "# informar apenas o NOME da pessoa\n",
        "pessoa = [\n",
        "    {\n",
        "    \"nome\": \"Matheus Eduardo\"\n",
        "    \"idade\": 20,\n",
        "    \"profissao\": \"desenvolvedor de software\"\n",
        "    }\n",
        "]\n",
        "\n",
        "print(pessoa.nome)"
      ]
    },
    {
      "cell_type": "markdown",
      "metadata": {
        "id": "D9RtThrDv5R9"
      },
      "source": [
        "# Exercício 3\n",
        "Exiba na tela apenas os nomes de todas as pessoas da lista.<br>\n",
        "Dica: utilize recursividade (for ou while).<br>"
      ]
    },
    {
      "cell_type": "code",
      "execution_count": null,
      "metadata": {
        "colab": {
          "base_uri": "https://localhost:8080/"
        },
        "id": "yJj7V3QGwEjZ",
        "outputId": "84baac13-c882-4ebb-a0ff-32dc60176044"
      },
      "outputs": [],
      "source": [
        "# exibir apenas os nomes\n",
        "pessoas = [\n",
        "    {\n",
        "        \"nome\":\"Matheus Eduardo\",\n",
        "        \"idade\":20,\n",
        "        \"profissao\":\"desenvolvedor de software\"\n",
        "    },\n",
        "    {\n",
        "        \"nome\":\"Felipe Bender\",\n",
        "        \"idade\":24,\n",
        "        \"profissao\":\"desenvolvedor de software\"\n",
        "    },\n",
        "    {\n",
        "        \"nome\":\"André Calisto\",\n",
        "        \"idade\":30,\n",
        "        \"profissao\":\"engenheiro de bioprocessos\"\n",
        "    },\n",
        "    {\n",
        "        \"nome\":\"Ricardo Luan Arthur Costa\",\n",
        "        \"idade\":23,\n",
        "        \"profissao\":\"professor\"\n",
        "    },\n",
        "    {\n",
        "        \"nome\":\"Francisca Nicole\",\n",
        "        \"idade\":29,\n",
        "        \"profissao\":\"advogada\"\n",
        "    },\n",
        "    {\n",
        "        \"nome\":\"Alana Stefany\",\n",
        "        \"idade\":19,\n",
        "        \"profissao\":\"desenvolvedora de software\"\n",
        "    }\n",
        "]"
      ]
    },
    {
      "cell_type": "markdown",
      "metadata": {
        "id": "FRkZH-fKx4xa"
      },
      "source": [
        "# Exercício 4\n",
        "Crie um código que exiba na tela a descrição de TODOS os repositórios do usuário [Felipe Bender](https://github.com/BenderF) no github.<br>\n",
        "[Material de apoio](https://github.com/euMts/aula_scraping_e_api/tree/main/Consumindo%20API)<br>\n",
        "Dica: utilize recursividade (for ou while)"
      ]
    },
    {
      "cell_type": "code",
      "execution_count": null,
      "metadata": {
        "id": "R3tWL5HqyrJ5"
      },
      "outputs": [],
      "source": [
        "from requests import get\n",
        "\n",
        "# seu código aqui"
      ]
    },
    {
      "cell_type": "markdown",
      "metadata": {
        "id": "vYUKrXwUx-ER"
      },
      "source": [
        "# Exercício 5\n",
        "Crie uma classe que recebe nome, idade e profissão de determinada pessoa e armazene estes valores um uma variável do tipo dict.<br>\n",
        "Exiba os valores salvos na tela."
      ]
    },
    {
      "cell_type": "code",
      "execution_count": null,
      "metadata": {
        "id": "V-iOZwOl2fQN"
      },
      "outputs": [],
      "source": [
        "# seu codigo aqui\n"
      ]
    },
    {
      "cell_type": "markdown",
      "metadata": {},
      "source": [
        "# Exercício 6\n",
        "Crie um código que apresente na tela o dia e hora atual a cada 5 segundos.<br>\n",
        "\n",
        "Exemplo de retorno esperado:<br>\n",
        "13/09/2022 - 19:53:00<br>\n",
        "13/09/2022 - 19:53:05<br>\n",
        "13/09/2022 - 19:53:10<br>\n",
        "13/09/2022 - 19:53:15<br>\n",
        "13/09/2022 - 19:53:20<br>\n",
        "\n",
        "Dica: leia a documentação das bibliotecas<br>\n",
        "[Material de apoio 1](https://www.programiz.com/python-programming/time)<br>\n",
        "[Material de apoio 2](https://www.programiz.com/python-programming/datetime)"
      ]
    },
    {
      "cell_type": "code",
      "execution_count": null,
      "metadata": {},
      "outputs": [],
      "source": [
        "from time import sleep\n",
        "from datetime import datetime\n",
        "\n",
        "# seu código aqui"
      ]
    },
    {
      "cell_type": "markdown",
      "metadata": {},
      "source": [
        "# Exercício 7\n",
        "\n",
        "#### 7.1 - Crie uma função que retorne o tamanho do array 'frutas'\n",
        "#### 7.2 - Crie uma função que exiba na tela todo o conteúdo do array 'frutas' de forma MAIÚSCULA\n",
        "#### 7.3 - Altere a letra A pelo caractere * na variável de nome 'minha_var'"
      ]
    },
    {
      "cell_type": "code",
      "execution_count": null,
      "metadata": {},
      "outputs": [],
      "source": [
        "# 7.1\n",
        "frutas = [\"banana\", \"maca\", \"pera\", \"uva\", \"morango\", \"mamao\", \"pessego\", \"laranja\"]\n",
        "\n",
        "# 7.2\n",
        "frutas = [\"banana\", \"maca\", \"pera\", \"uva\", \"morango\", \"mamao\", \"pessego\", \"laranja\"]\n",
        "\n",
        "# 7.3\n",
        "minha_var = \"a caneca do irmão foi quebrada pelo cão\""
      ]
    },
    {
      "cell_type": "markdown",
      "metadata": {},
      "source": [
        "# Exercício 8\n",
        "Crie uma função que retorne a idade das pessoas que tenham o nome com a inicial \"A\"<br>\n",
        "Por exemplo, se o nome da pessoa for \"Amanda\", deve-se retornar a idade de \"Amanda\".<br>\n"
      ]
    },
    {
      "cell_type": "code",
      "execution_count": null,
      "metadata": {},
      "outputs": [],
      "source": [
        "pessoas = [\n",
        "    {\n",
        "        \"nome\":\"Matheus Eduardo\",\n",
        "        \"idade\":20,\n",
        "        \"profissao\":\"desenvolvedor de software\"\n",
        "    },\n",
        "    {\n",
        "        \"nome\":\"Felipe Bender\",\n",
        "        \"idade\":24,\n",
        "        \"profissao\":\"desenvolvedor de software\"\n",
        "    },\n",
        "    {\n",
        "        \"nome\":\"André Calisto\",\n",
        "        \"idade\":30,\n",
        "        \"profissao\":\"engenheiro de bioprocessos\"\n",
        "    },\n",
        "    {\n",
        "        \"nome\":\"Ricardo Luan Arthur Costa\",\n",
        "        \"idade\":23,\n",
        "        \"profissao\":\"professor\"\n",
        "    },\n",
        "    {\n",
        "        \"nome\":\"Francisca Nicole\",\n",
        "        \"idade\":29,\n",
        "        \"profissao\":\"advogada\"\n",
        "    },\n",
        "    {\n",
        "        \"nome\":\"Alana Stefany\",\n",
        "        \"idade\":19,\n",
        "        \"profissao\":\"desenvolvedora de software\"\n",
        "    },\n",
        "    {\n",
        "        \"nome\":\"Antonio Cleber\",\n",
        "        \"idade\":22,\n",
        "        \"profissao\":\"desenvolvedor de software\"\n",
        "    }\n",
        "]"
      ]
    },
    {
      "cell_type": "markdown",
      "metadata": {},
      "source": [
        "# Exercício 9\n",
        "Crie uma função que retorne um valor aleatório do array 'frutas'<br>\n",
        "Dica: utilize o método 'randint' da biblioteca 'random'<br>\n",
        "[Material de apoio](https://www.programiz.com/python-programming/modules/random)"
      ]
    },
    {
      "cell_type": "code",
      "execution_count": null,
      "metadata": {},
      "outputs": [],
      "source": [
        "from random import randint\n",
        "\n",
        "frutas = [\"banana\", \"maca\", \"pera\", \"uva\", \"morango\", \"mamao\", \"pessego\", \"laranja\"]\n",
        "\n",
        "# seu código aqui"
      ]
    }
  ],
  "metadata": {
    "colab": {
      "provenance": []
    },
    "kernelspec": {
      "display_name": "Python 3.9.7 64-bit",
      "language": "python",
      "name": "python3"
    },
    "language_info": {
      "codemirror_mode": {
        "name": "ipython",
        "version": 3
      },
      "file_extension": ".py",
      "mimetype": "text/x-python",
      "name": "python",
      "nbconvert_exporter": "python",
      "pygments_lexer": "ipython3",
      "version": "3.9.7"
    },
    "vscode": {
      "interpreter": {
        "hash": "961693636038134005634e9326f42cc68f55e67e718cc266e44319f9d6d513ab"
      }
    }
  },
  "nbformat": 4,
  "nbformat_minor": 0
}
